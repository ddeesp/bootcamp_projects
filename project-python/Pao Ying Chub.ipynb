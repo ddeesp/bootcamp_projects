{
 "cells":[
  {
   "cell_type":"markdown",
   "source":[
    "# **Homework: PaoYingChub**"
   ],
   "attachments":{
    
   },
   "metadata":{
    "datalore":{
     "node_id":"QmFpMtB3iMvkGRfEdx1cRw",
     "type":"MD",
     "hide_input_from_viewers":true,
     "hide_output_from_viewers":false,
     "report_properties":{
      "y":0
     }
    }
   }
  },
  {
   "cell_type":"code",
   "source":[
    "# set up variables\n",
    "\n",
    "import random\n",
    "pyc = (\"r\",\"p\",\"s\")\n",
    "draw = 0\n",
    "win = 0\n",
    "lose = 0\n",
    "play = 0\n",
    "\n",
    "# greeting and rule\n",
    "\n",
    "print(\"Hello There!\")\n",
    "print(\"Welcome to PaoYingChub\")\n",
    "name = input(\"What is your name: \")\n",
    "print(f\"Hi,{name}!\")\n",
    "ready = input(\"Are you ready to play? (y\/n): \")\n",
    "\n",
    "if ready == \"y\":\n",
    "    print(\"Rule: You fill letter r(rock), p(paper), s(scissors) in each round and you can play unlimited time. If you wanna quit game just fill 'q', we will sum the game result to you. Have fun!\")\n",
    "else:\n",
    "    print(\"Let's play later. Have a nice day. Bye!\")\n",
    "    play += 11\n",
    "\n",
    "# start games\n",
    "\n",
    "while play < 10:\n",
    "    bot = random.choice(pyc)\n",
    "    user = input(\"Start (r,p,s) Quit Game (q): \")\n",
    "    if user == bot:\n",
    "        draw += 1\n",
    "        print(f\"user: {user} bot: {bot}\")\n",
    "        print(\"Result: draw\")\n",
    "    elif user == \"r\" and bot == \"p\":\n",
    "        lose += 1\n",
    "        print(f\"user: {user} bot: {bot}\")\n",
    "        print(\"Result: lose\")\n",
    "    elif user == \"r\" and bot == \"s\":\n",
    "        win += 1\n",
    "        print(f\"user: {user} bot: {bot}\")\n",
    "        print(\"Result: win\")\n",
    "    elif user == \"p\" and bot == \"r\":\n",
    "        win += 1\n",
    "        print(f\"user: {user} bot: {bot}\")\n",
    "        print(\"Result: win\")\n",
    "    elif user == \"p\" and bot == \"s\":\n",
    "        lose += 1\n",
    "        print(f\"user: {user} bot: {bot}\")\n",
    "        print(\"Result: lose\")\n",
    "    elif user == \"s\" and bot == \"r\":\n",
    "        lose += 1\n",
    "        print(f\"user: {user} bot: {bot}\")\n",
    "        print(\"Result: lose\")\n",
    "    elif user == \"s\" and bot == \"p\":\n",
    "        win += 1\n",
    "        print(f\"user: {user} bot: {bot}\")\n",
    "        print(\"Result: win\")\n",
    "    else:\n",
    "        play += 10\n",
    "        print(\"See your score\")\n",
    "\n",
    "# summarize score\n",
    "\n",
    "while play == 10:\n",
    "    result = (f\"win: {win} draw: {draw} lose: {lose}\")\n",
    "    print(result)\n",
    "    print(\"See you next time. Bye!\")\n",
    "    play += 1"
   ],
   "execution_count":null,
   "outputs":[
    {
     "name":"stdout",
     "text":[
      "Hello There!\n",
      "Welcome to PaoYingChub\n",
      "What is your name:  Dee\n",
      "Hi,Dee!\n",
      "Are you ready to play? (y\/n):  y\n",
      "Rule: You fill letter r(rock), p(paper), s(scissors) in each round and you can play unlimited time. If you wanna quit game just fill 'q', we will sum the game result to you. Have fun!\n",
      "Start (r,p,s) Quit Game (q):  p\n",
      "user: p bot: p\n",
      "Result: draw\n",
      "Start (r,p,s) Quit Game (q):  s\n",
      "user: s bot: r\n",
      "Result: lose\n",
      "Start (r,p,s) Quit Game (q):  r\n",
      "user: r bot: s\n",
      "Result: win\n",
      "Start (r,p,s) Quit Game (q):  r\n",
      "user: r bot: r\n",
      "Result: draw\n",
      "Start (r,p,s) Quit Game (q):  q\n",
      "See your score\n",
      "win: 1 draw: 2 lose: 1\n",
      "See you next time. Bye!\n"
     ],
     "output_type":"stream"
    }
   ],
   "metadata":{
    "datalore":{
     "node_id":"KDI0pxneZgN9rqc1kw2N0S",
     "type":"CODE",
     "hide_input_from_viewers":false,
     "hide_output_from_viewers":false,
     "report_properties":{
      "y":4
     }
    }
   }
  },
  {
   "cell_type":"markdown",
   "source":[
    "# **Homework: ATM**"
   ],
   "attachments":{
    
   },
   "metadata":{
    "datalore":{
     "node_id":"XXAOfhVhSH55b6vJoR2tms",
     "type":"MD",
     "hide_input_from_viewers":true,
     "hide_output_from_viewers":true
    }
   }
  },
  {
   "cell_type":"code",
   "source":[
    "# define class\n",
    "\n",
    "class ATM:\n",
    "    def __init__(self, name, password, balance):\n",
    "        self.name = name\n",
    "        self.balance = balance\n",
    "        self.password = password\n",
    "\n",
    "    def check_balance(self):\n",
    "        message = f\"Account: {self.name}, Balance: {self.balance}\"\n",
    "        print(message)\n",
    "\n",
    "    def deposite(self, money):\n",
    "        self.balance += money\n",
    "        print(f\"New Balance: {self.balance}\")\n",
    "        print(\"Deposit successfully.\")\n",
    "\n",
    "    def change_name(self, new_acc_name):\n",
    "        self.name = new_acc_name\n",
    "        print(f\"New Name: {self.name}\")\n",
    "        print(\"Your account name has been changed.\")\n",
    "\n",
    "    def withdraw(self, money):\n",
    "        self.balance -= money\n",
    "        print(f\"New Balance: {self.balance}\")\n",
    "        print(\"Withdraw successfully.\")\n",
    "\n",
    "    def login(self, name, password):\n",
    "        if self.name == name and self.password == password:\n",
    "            print(\"Login successfully.\")\n",
    "            print(f\"Hello! {self.name}\")\n",
    "        elif self.name == name and self.password != password:\n",
    "            print(\"Your password is incorrect.\")\n",
    "        else:\n",
    "            print(\"There is no this name in system. Please check your name.\")\n",
    "    \n",
    "    def change_password(self, new_password):\n",
    "        self.password = new_password\n",
    "        print(f\"Password: {self.password}\")\n",
    "        print(\"Your password has been changed.\")\n",
    "\n",
    "    def transfer(self, receiver_name, money):\n",
    "        self.balance -= money\n",
    "        print(f\"New Balance: {self.balance}\")\n",
    "        print(\"Transfer successfully.\")"
   ],
   "execution_count":null,
   "outputs":[
    
   ],
   "metadata":{
    "datalore":{
     "node_id":"JLnLNtF8ruCwE2YVlw4uQm",
     "type":"CODE",
     "hide_input_from_viewers":true,
     "hide_output_from_viewers":true
    }
   }
  },
  {
   "cell_type":"code",
   "source":[
    "# open new account\n",
    "\n",
    "print(\"Hello There!\")\n",
    "print(\"Open New Account\")\n",
    "name = input(\"Name: \")\n",
    "password = input(\"Password (int 6 digits): \")\n",
    "balance = input(\"Deposit Amount (int): \")\n",
    "user = ATM(name, password, balance)\n",
    "print(\"Successfully open new account.\") "
   ],
   "execution_count":null,
   "outputs":[
    {
     "name":"stdout",
     "text":[
      "Hello There!\n",
      "Open New Account\n",
      "Name:  Dee\n",
      "Password (int 6 digits):  123456\n",
      "Deposit Amount (int):  4000000\n",
      "Successfully open new account.\n"
     ],
     "output_type":"stream"
    }
   ],
   "metadata":{
    "datalore":{
     "node_id":"UJkafeJvXpYERqbjuvZrDT",
     "type":"CODE",
     "hide_input_from_viewers":true,
     "hide_output_from_viewers":true
    }
   }
  },
  {
   "cell_type":"code",
   "source":[
    "# ATM\n",
    "\n",
    "name1 = input(\"Name: \")\n",
    "password1 = input(\"Password: \")\n",
    "user.login(name1, password1)\n",
    "\n",
    "if name1 == name and password1 == password:\n",
    "    print(\"What would you like to do?\\n 1. Check balance\\n 2. Deposit\\n 3. Withdraw\\n 4. Transfer\\n 5. Change account name\\n 6. Change password\")\n",
    "    service = int(input(\"Please fill number of service: \"))\n",
    "\n",
    "    if service == 1:\n",
    "        user.check_balance()\n",
    "    elif service == 2:\n",
    "        money = input(\"Deposit amount: \")\n",
    "        user.deposite(money)\n",
    "    elif service == 3:\n",
    "        money = input(\"Withdraw amount: \")\n",
    "        user.withdraw(money)\n",
    "    elif service == 4:\n",
    "        receiver_name = input(\"Receiver name: \")\n",
    "        money = input(\"Withdraw amount: \")\n",
    "        user.transfer(receiver_name, money)\n",
    "    elif service == 5:\n",
    "        new_acc_name = input(\"New account name: \")\n",
    "        user.change_name(new_acc_name)\n",
    "    elif service == 6:\n",
    "        new_password = input(\"New password: \")\n",
    "        user.change_password(new_password)\n",
    "    else:\n",
    "        print(\"Wrong input. Please try again.\")\n",
    "        print(\"What would you like to do?\\n 1. Check balance\\n 2. Deposit\\n 3. Withdraw\\n 4. Transfer\\n 5. Change account name\\n 6. Change password\")\n",
    "        service = input(\"Please fill number of service: \")"
   ],
   "execution_count":null,
   "outputs":[
    {
     "name":"stdout",
     "text":[
      "Name:  Dee\n",
      "Password:  123456\n",
      "Login successfully.\n",
      "Hello! Dee\n",
      "What would you like to do?\n",
      " 1. Check balance\n",
      " 2. Deposit\n",
      " 3. Withdraw\n",
      " 4. Transfer\n",
      " 5. Change account name\n",
      " 6. Change password\n",
      "Please fill number of service:  1\n",
      "Account: Dee, Balance: 4000000\n"
     ],
     "output_type":"stream"
    }
   ],
   "metadata":{
    "datalore":{
     "node_id":"QUk60TFNq9OaUPhy2cf8IF",
     "type":"CODE",
     "hide_input_from_viewers":true,
     "hide_output_from_viewers":true
    }
   }
  }
 ],
 "metadata":{
  "kernelspec":{
   "display_name":"Python",
   "language":"python",
   "name":"python"
  },
  "datalore":{
   "version":1,
   "computation_mode":"JUPYTER",
   "package_manager":"pip",
   "base_environment":"default",
   "packages":[
    
   ]
  }
 },
 "nbformat":4,
 "nbformat_minor":4
}