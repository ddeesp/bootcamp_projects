{
 "cells":[
  {
   "cell_type":"markdown",
   "source":[
    "## NYC Flights 2013 Analysis"
   ],
   "attachments":{
    
   },
   "metadata":{
    "datalore":{
     "node_id":"zS7GXb3iBui7HAD7bUqzWY",
     "type":"MD",
     "hide_input_from_viewers":false,
     "hide_output_from_viewers":false,
     "report_properties":{
      "y":0
     }
    }
   }
  },
  {
   "cell_type":"code",
   "source":[
    "## import data\n",
    "library(tidyverse)\n",
    "flights <- read.csv(\"flights.csv\")"
   ],
   "execution_count":null,
   "outputs":[
    
   ],
   "metadata":{
    "datalore":{
     "node_id":"4WOnV632SPr2xN4PN72d5i",
     "type":"CODE",
     "hide_input_from_viewers":false,
     "hide_output_from_viewers":false,
     "report_properties":{
      "y":3
     }
    }
   }
  },
  {
   "cell_type":"code",
   "source":[
    "## preview data\n",
    "glimpse(flights)\n",
    "glimpse(airports)\n",
    "glimpse(airlines)"
   ],
   "execution_count":null,
   "outputs":[
    {
     "name":"stdout",
     "text":[
      "Rows: 336,776\n",
      "Columns: 19\n",
      "$ year           \u001b[3m\u001b[90m<int>\u001b[39m\u001b[23m 2013, 2013, 2013, 2013, 2013, 2013, 2013, 2013, 2013, 2…\n",
      "$ month          \u001b[3m\u001b[90m<int>\u001b[39m\u001b[23m 1, 1, 1, 1, 1, 1, 1, 1, 1, 1, 1, 1, 1, 1, 1, 1, 1, 1, 1…\n",
      "$ day            \u001b[3m\u001b[90m<int>\u001b[39m\u001b[23m 1, 1, 1, 1, 1, 1, 1, 1, 1, 1, 1, 1, 1, 1, 1, 1, 1, 1, 1…\n",
      "$ dep_time       \u001b[3m\u001b[90m<int>\u001b[39m\u001b[23m 517, 533, 542, 544, 554, 554, 555, 557, 557, 558, 558, …\n",
      "$ sched_dep_time \u001b[3m\u001b[90m<int>\u001b[39m\u001b[23m 515, 529, 540, 545, 600, 558, 600, 600, 600, 600, 600, …\n",
      "$ dep_delay      \u001b[3m\u001b[90m<dbl>\u001b[39m\u001b[23m 2, 4, 2, -1, -6, -4, -5, -3, -3, -2, -2, -2, -2, -2, -1…\n",
      "$ arr_time       \u001b[3m\u001b[90m<int>\u001b[39m\u001b[23m 830, 850, 923, 1004, 812, 740, 913, 709, 838, 753, 849,…\n",
      "$ sched_arr_time \u001b[3m\u001b[90m<int>\u001b[39m\u001b[23m 819, 830, 850, 1022, 837, 728, 854, 723, 846, 745, 851,…\n",
      "$ arr_delay      \u001b[3m\u001b[90m<dbl>\u001b[39m\u001b[23m 11, 20, 33, -18, -25, 12, 19, -14, -8, 8, -2, -3, 7, -1…\n",
      "$ carrier        \u001b[3m\u001b[90m<chr>\u001b[39m\u001b[23m \"UA\", \"UA\", \"AA\", \"B6\", \"DL\", \"UA\", \"B6\", \"EV\", \"B6\", \"…\n",
      "$ flight         \u001b[3m\u001b[90m<int>\u001b[39m\u001b[23m 1545, 1714, 1141, 725, 461, 1696, 507, 5708, 79, 301, 4…\n",
      "$ tailnum        \u001b[3m\u001b[90m<chr>\u001b[39m\u001b[23m \"N14228\", \"N24211\", \"N619AA\", \"N804JB\", \"N668DN\", \"N394…\n",
      "$ origin         \u001b[3m\u001b[90m<chr>\u001b[39m\u001b[23m \"EWR\", \"LGA\", \"JFK\", \"JFK\", \"LGA\", \"EWR\", \"EWR\", \"LGA\",…\n",
      "$ dest           \u001b[3m\u001b[90m<chr>\u001b[39m\u001b[23m \"IAH\", \"IAH\", \"MIA\", \"BQN\", \"ATL\", \"ORD\", \"FLL\", \"IAD\",…\n",
      "$ air_time       \u001b[3m\u001b[90m<dbl>\u001b[39m\u001b[23m 227, 227, 160, 183, 116, 150, 158, 53, 140, 138, 149, 1…\n",
      "$ distance       \u001b[3m\u001b[90m<dbl>\u001b[39m\u001b[23m 1400, 1416, 1089, 1576, 762, 719, 1065, 229, 944, 733, …\n",
      "$ hour           \u001b[3m\u001b[90m<dbl>\u001b[39m\u001b[23m 5, 5, 5, 5, 6, 5, 6, 6, 6, 6, 6, 6, 6, 6, 6, 5, 6, 6, 6…\n",
      "$ minute         \u001b[3m\u001b[90m<dbl>\u001b[39m\u001b[23m 15, 29, 40, 45, 0, 58, 0, 0, 0, 0, 0, 0, 0, 0, 0, 59, 0…\n",
      "$ time_hour      \u001b[3m\u001b[90m<dttm>\u001b[39m\u001b[23m 2013-01-01 10:00:00, 2013-01-01 10:00:00, 2013-01-01 1…\n",
      "Rows: 1,458\n",
      "Columns: 8\n",
      "$ faa   \u001b[3m\u001b[90m<chr>\u001b[39m\u001b[23m \"04G\", \"06A\", \"06C\", \"06N\", \"09J\", \"0A9\", \"0G6\", \"0G7\", \"0P2\", \"…\n",
      "$ name  \u001b[3m\u001b[90m<chr>\u001b[39m\u001b[23m \"Lansdowne Airport\", \"Moton Field Municipal Airport\", \"Schaumbur…\n",
      "$ lat   \u001b[3m\u001b[90m<dbl>\u001b[39m\u001b[23m 41.13047, 32.46057, 41.98934, 41.43191, 31.07447, 36.37122, 41.4…\n",
      "$ lon   \u001b[3m\u001b[90m<dbl>\u001b[39m\u001b[23m -80.61958, -85.68003, -88.10124, -74.39156, -81.42778, -82.17342…\n",
      "$ alt   \u001b[3m\u001b[90m<dbl>\u001b[39m\u001b[23m 1044, 264, 801, 523, 11, 1593, 730, 492, 1000, 108, 409, 875, 10…\n",
      "$ tz    \u001b[3m\u001b[90m<dbl>\u001b[39m\u001b[23m -5, -6, -6, -5, -5, -5, -5, -5, -5, -8, -5, -6, -5, -5, -5, -5, …\n",
      "$ dst   \u001b[3m\u001b[90m<chr>\u001b[39m\u001b[23m \"A\", \"A\", \"A\", \"A\", \"A\", \"A\", \"A\", \"A\", \"U\", \"A\", \"A\", \"U\", \"A\",…\n",
      "$ tzone \u001b[3m\u001b[90m<chr>\u001b[39m\u001b[23m \"America\/New_York\", \"America\/Chicago\", \"America\/Chicago\", \"Ameri…\n",
      "Rows: 16\n",
      "Columns: 2\n",
      "$ carrier \u001b[3m\u001b[90m<chr>\u001b[39m\u001b[23m \"9E\", \"AA\", \"AS\", \"B6\", \"DL\", \"EV\", \"F9\", \"FL\", \"HA\", \"MQ\", \"O…\n",
      "$ name    \u001b[3m\u001b[90m<chr>\u001b[39m\u001b[23m \"Endeavor Air Inc.\", \"American Airlines Inc.\", \"Alaska Airline…\n"
     ],
     "output_type":"stream"
    }
   ],
   "metadata":{
    "datalore":{
     "node_id":"KHzAFYx4d604Zhgia7Gvhh",
     "type":"CODE",
     "hide_input_from_viewers":false,
     "hide_output_from_viewers":false,
     "report_properties":{
      "y":7
     }
    }
   }
  },
  {
   "cell_type":"code",
   "source":[
    "## Q1 Where is the most popular destination?\n",
    "## Chicago\n",
    "\n",
    "flights %>%\n",
    "    count(dest) %>%\n",
    "        arrange(desc(n)) %>%\n",
    "            left_join(airports, by = c(\"dest\" = \"faa\")) %>%\n",
    "                head(5)"
   ],
   "execution_count":null,
   "outputs":[
    {
     "data":{
      "text\/html":[
       "<table class=\"dataframe\">\n",
       "<caption>A tibble: 5 × 9<\/caption>\n",
       "<thead>\n",
       "\t<tr><th scope=col>dest<\/th><th scope=col>n<\/th><th scope=col>name<\/th><th scope=col>lat<\/th><th scope=col>lon<\/th><th scope=col>alt<\/th><th scope=col>tz<\/th><th scope=col>dst<\/th><th scope=col>tzone<\/th><\/tr>\n",
       "\t<tr><th scope=col>&lt;chr&gt;<\/th><th scope=col>&lt;int&gt;<\/th><th scope=col>&lt;chr&gt;<\/th><th scope=col>&lt;dbl&gt;<\/th><th scope=col>&lt;dbl&gt;<\/th><th scope=col>&lt;dbl&gt;<\/th><th scope=col>&lt;dbl&gt;<\/th><th scope=col>&lt;chr&gt;<\/th><th scope=col>&lt;chr&gt;<\/th><\/tr>\n",
       "<\/thead>\n",
       "<tbody>\n",
       "\t<tr><td>ORD<\/td><td>17283<\/td><td>Chicago Ohare Intl                <\/td><td>41.97860<\/td><td> -87.90484<\/td><td> 668<\/td><td>-6<\/td><td>A<\/td><td>America\/Chicago    <\/td><\/tr>\n",
       "\t<tr><td>ATL<\/td><td>17215<\/td><td>Hartsfield Jackson Atlanta Intl   <\/td><td>33.63672<\/td><td> -84.42807<\/td><td>1026<\/td><td>-5<\/td><td>A<\/td><td>America\/New_York   <\/td><\/tr>\n",
       "\t<tr><td>LAX<\/td><td>16174<\/td><td>Los Angeles Intl                  <\/td><td>33.94254<\/td><td>-118.40807<\/td><td> 126<\/td><td>-8<\/td><td>A<\/td><td>America\/Los_Angeles<\/td><\/tr>\n",
       "\t<tr><td>BOS<\/td><td>15508<\/td><td>General Edward Lawrence Logan Intl<\/td><td>42.36435<\/td><td> -71.00518<\/td><td>  19<\/td><td>-5<\/td><td>A<\/td><td>America\/New_York   <\/td><\/tr>\n",
       "\t<tr><td>MCO<\/td><td>14082<\/td><td>Orlando Intl                      <\/td><td>28.42939<\/td><td> -81.30899<\/td><td>  96<\/td><td>-5<\/td><td>A<\/td><td>America\/New_York   <\/td><\/tr>\n",
       "<\/tbody>\n",
       "<\/table>\n"
      ]
     },
     "metadata":{
      
     },
     "output_type":"display_data"
    }
   ],
   "metadata":{
    "datalore":{
     "node_id":"nD8I1ZRrj3AD0hQdi1H3qQ",
     "type":"CODE",
     "hide_input_from_viewers":false,
     "hide_output_from_viewers":false,
     "report_properties":{
      "y":21
     }
    }
   }
  },
  {
   "cell_type":"code",
   "source":[
    "## Q2 Which airline has the least delays?\n",
    "## Alaska Airlines Inc.\n",
    "\n",
    "flights %>%\n",
    "    group_by(carrier) %>%\n",
    "        summarize(avg_delay = mean(arr_delay, na.rm = T)) %>%\n",
    "            arrange(avg_delay) %>%\n",
    "                left_join(airlines, by = \"carrier\") %>%\n",
    "                    head(5)\n",
    "        "
   ],
   "execution_count":null,
   "outputs":[
    {
     "data":{
      "text\/html":[
       "<table class=\"dataframe\">\n",
       "<caption>A tibble: 5 × 3<\/caption>\n",
       "<thead>\n",
       "\t<tr><th scope=col>carrier<\/th><th scope=col>avg_delay<\/th><th scope=col>name<\/th><\/tr>\n",
       "\t<tr><th scope=col>&lt;chr&gt;<\/th><th scope=col>&lt;dbl&gt;<\/th><th scope=col>&lt;chr&gt;<\/th><\/tr>\n",
       "<\/thead>\n",
       "<tbody>\n",
       "\t<tr><td>AS<\/td><td>-9.9308886<\/td><td>Alaska Airlines Inc.  <\/td><\/tr>\n",
       "\t<tr><td>HA<\/td><td>-6.9152047<\/td><td>Hawaiian Airlines Inc.<\/td><\/tr>\n",
       "\t<tr><td>AA<\/td><td> 0.3642909<\/td><td>American Airlines Inc.<\/td><\/tr>\n",
       "\t<tr><td>DL<\/td><td> 1.6443409<\/td><td>Delta Air Lines Inc.  <\/td><\/tr>\n",
       "\t<tr><td>VX<\/td><td> 1.7644644<\/td><td>Virgin America        <\/td><\/tr>\n",
       "<\/tbody>\n",
       "<\/table>\n"
      ]
     },
     "metadata":{
      
     },
     "output_type":"display_data"
    }
   ],
   "metadata":{
    "datalore":{
     "node_id":"022Cu1u8Hzyw6OJmTFxBgN",
     "type":"CODE",
     "hide_input_from_viewers":false,
     "hide_output_from_viewers":false,
     "report_properties":{
      "y":33
     }
    }
   }
  },
  {
   "cell_type":"code",
   "source":[
    "## Q3 Which flight is the longest flight?\n",
    "## 412, 701, 707, 727, 739, 745, 839, 1503\n",
    "flights %>%\n",
    "    mutate(time_spent = hour*60 + minute) %>%\n",
    "        group_by(flight) %>%\n",
    "            summarise(max_time = max(time_spent)) %>%\n",
    "                arrange(desc(max_time))"
   ],
   "execution_count":null,
   "outputs":[
    {
     "data":{
      "text\/html":[
       "<table class=\"dataframe\">\n",
       "<caption>A tibble: 3844 × 2<\/caption>\n",
       "<thead>\n",
       "\t<tr><th scope=col>flight<\/th><th scope=col>max_time<\/th><\/tr>\n",
       "\t<tr><th scope=col>&lt;int&gt;<\/th><th scope=col>&lt;dbl&gt;<\/th><\/tr>\n",
       "<\/thead>\n",
       "<tbody>\n",
       "\t<tr><td> 412<\/td><td>1439<\/td><\/tr>\n",
       "\t<tr><td> 701<\/td><td>1439<\/td><\/tr>\n",
       "\t<tr><td> 707<\/td><td>1439<\/td><\/tr>\n",
       "\t<tr><td> 727<\/td><td>1439<\/td><\/tr>\n",
       "\t<tr><td> 739<\/td><td>1439<\/td><\/tr>\n",
       "\t<tr><td> 745<\/td><td>1439<\/td><\/tr>\n",
       "\t<tr><td> 839<\/td><td>1439<\/td><\/tr>\n",
       "\t<tr><td>1503<\/td><td>1439<\/td><\/tr>\n",
       "\t<tr><td> 424<\/td><td>1435<\/td><\/tr>\n",
       "\t<tr><td>2380<\/td><td>1435<\/td><\/tr>\n",
       "\t<tr><td>2466<\/td><td>1435<\/td><\/tr>\n",
       "\t<tr><td> 483<\/td><td>1425<\/td><\/tr>\n",
       "\t<tr><td> 636<\/td><td>1419<\/td><\/tr>\n",
       "\t<tr><td>1389<\/td><td>1410<\/td><\/tr>\n",
       "\t<tr><td> 718<\/td><td>1385<\/td><\/tr>\n",
       "\t<tr><td> 234<\/td><td>1380<\/td><\/tr>\n",
       "\t<tr><td> 309<\/td><td>1380<\/td><\/tr>\n",
       "\t<tr><td>1066<\/td><td>1380<\/td><\/tr>\n",
       "\t<tr><td>1446<\/td><td>1380<\/td><\/tr>\n",
       "\t<tr><td>1525<\/td><td>1380<\/td><\/tr>\n",
       "\t<tr><td> 112<\/td><td>1378<\/td><\/tr>\n",
       "\t<tr><td>1018<\/td><td>1378<\/td><\/tr>\n",
       "\t<tr><td>  30<\/td><td>1375<\/td><\/tr>\n",
       "\t<tr><td> 108<\/td><td>1375<\/td><\/tr>\n",
       "\t<tr><td> 486<\/td><td>1375<\/td><\/tr>\n",
       "\t<tr><td>2002<\/td><td>1375<\/td><\/tr>\n",
       "\t<tr><td>  22<\/td><td>1371<\/td><\/tr>\n",
       "\t<tr><td> 608<\/td><td>1370<\/td><\/tr>\n",
       "\t<tr><td>1816<\/td><td>1370<\/td><\/tr>\n",
       "\t<tr><td> 128<\/td><td>1365<\/td><\/tr>\n",
       "\t<tr><td>⋮<\/td><td>⋮<\/td><\/tr>\n",
       "\t<tr><td>2161<\/td><td>360<\/td><\/tr>\n",
       "\t<tr><td>2213<\/td><td>360<\/td><\/tr>\n",
       "\t<tr><td>2387<\/td><td>360<\/td><\/tr>\n",
       "\t<tr><td>2656<\/td><td>360<\/td><\/tr>\n",
       "\t<tr><td>2817<\/td><td>360<\/td><\/tr>\n",
       "\t<tr><td>3011<\/td><td>360<\/td><\/tr>\n",
       "\t<tr><td>3037<\/td><td>360<\/td><\/tr>\n",
       "\t<tr><td>3136<\/td><td>360<\/td><\/tr>\n",
       "\t<tr><td>3768<\/td><td>360<\/td><\/tr>\n",
       "\t<tr><td>3938<\/td><td>360<\/td><\/tr>\n",
       "\t<tr><td>4448<\/td><td>360<\/td><\/tr>\n",
       "\t<tr><td>4458<\/td><td>360<\/td><\/tr>\n",
       "\t<tr><td>4650<\/td><td>360<\/td><\/tr>\n",
       "\t<tr><td>4911<\/td><td>360<\/td><\/tr>\n",
       "\t<tr><td>5020<\/td><td>360<\/td><\/tr>\n",
       "\t<tr><td>5068<\/td><td>360<\/td><\/tr>\n",
       "\t<tr><td>5310<\/td><td>360<\/td><\/tr>\n",
       "\t<tr><td>5559<\/td><td>360<\/td><\/tr>\n",
       "\t<tr><td>5689<\/td><td>360<\/td><\/tr>\n",
       "\t<tr><td>5694<\/td><td>360<\/td><\/tr>\n",
       "\t<tr><td>5716<\/td><td>360<\/td><\/tr>\n",
       "\t<tr><td>5739<\/td><td>360<\/td><\/tr>\n",
       "\t<tr><td>5752<\/td><td>360<\/td><\/tr>\n",
       "\t<tr><td>6012<\/td><td>360<\/td><\/tr>\n",
       "\t<tr><td>6055<\/td><td>360<\/td><\/tr>\n",
       "\t<tr><td>1500<\/td><td>345<\/td><\/tr>\n",
       "\t<tr><td>2243<\/td><td>345<\/td><\/tr>\n",
       "\t<tr><td>1096<\/td><td>320<\/td><\/tr>\n",
       "\t<tr><td>1487<\/td><td>315<\/td><\/tr>\n",
       "\t<tr><td>1987<\/td><td>300<\/td><\/tr>\n",
       "<\/tbody>\n",
       "<\/table>\n"
      ]
     },
     "metadata":{
      
     },
     "output_type":"display_data"
    }
   ],
   "metadata":{
    "datalore":{
     "node_id":"brJIUHF8k9EBDFB2xAKBma",
     "type":"CODE",
     "hide_input_from_viewers":false,
     "hide_output_from_viewers":false,
     "report_properties":{
      "y":46
     }
    }
   }
  },
  {
   "cell_type":"code",
   "source":[
    "## Q4 What month do people fly the most?\n",
    "## July(7)\n",
    "\n",
    "flights %>%\n",
    "    group_by(month) %>%\n",
    "        summarise(count_flight = n()) %>%\n",
    "            arrange(desc(count_flight)) %>%\n",
    "                head(5)"
   ],
   "execution_count":null,
   "outputs":[
    {
     "data":{
      "text\/html":[
       "<table class=\"dataframe\">\n",
       "<caption>A tibble: 5 × 2<\/caption>\n",
       "<thead>\n",
       "\t<tr><th scope=col>month<\/th><th scope=col>count_flight<\/th><\/tr>\n",
       "\t<tr><th scope=col>&lt;int&gt;<\/th><th scope=col>&lt;int&gt;<\/th><\/tr>\n",
       "<\/thead>\n",
       "<tbody>\n",
       "\t<tr><td> 7<\/td><td>29425<\/td><\/tr>\n",
       "\t<tr><td> 8<\/td><td>29327<\/td><\/tr>\n",
       "\t<tr><td>10<\/td><td>28889<\/td><\/tr>\n",
       "\t<tr><td> 3<\/td><td>28834<\/td><\/tr>\n",
       "\t<tr><td> 5<\/td><td>28796<\/td><\/tr>\n",
       "<\/tbody>\n",
       "<\/table>\n"
      ]
     },
     "metadata":{
      
     },
     "output_type":"display_data"
    }
   ],
   "metadata":{
    "datalore":{
     "node_id":"z6gn7cxjEEaSGbHsDfiJZk",
     "type":"CODE",
     "hide_input_from_viewers":false,
     "hide_output_from_viewers":false,
     "report_properties":{
      "y":88
     }
    }
   }
  },
  {
   "cell_type":"code",
   "source":[
    "## Q5 Which airline has the least flight?\n",
    "## SkyWest Airlines Inc.\n",
    "\n",
    "flights %>%\n",
    "    group_by(carrier) %>%\n",
    "        summarise(count_flight = n()) %>%\n",
    "            arrange(count_flight) %>%\n",
    "                left_join(airlines, by = \"carrier\") %>%\n",
    "                    head(5)"
   ],
   "execution_count":null,
   "outputs":[
    {
     "data":{
      "text\/html":[
       "<table class=\"dataframe\">\n",
       "<caption>A tibble: 5 × 3<\/caption>\n",
       "<thead>\n",
       "\t<tr><th scope=col>carrier<\/th><th scope=col>count_flight<\/th><th scope=col>name<\/th><\/tr>\n",
       "\t<tr><th scope=col>&lt;chr&gt;<\/th><th scope=col>&lt;int&gt;<\/th><th scope=col>&lt;chr&gt;<\/th><\/tr>\n",
       "<\/thead>\n",
       "<tbody>\n",
       "\t<tr><td>OO<\/td><td> 32<\/td><td>SkyWest Airlines Inc. <\/td><\/tr>\n",
       "\t<tr><td>HA<\/td><td>342<\/td><td>Hawaiian Airlines Inc.<\/td><\/tr>\n",
       "\t<tr><td>YV<\/td><td>601<\/td><td>Mesa Airlines Inc.    <\/td><\/tr>\n",
       "\t<tr><td>F9<\/td><td>685<\/td><td>Frontier Airlines Inc.<\/td><\/tr>\n",
       "\t<tr><td>AS<\/td><td>714<\/td><td>Alaska Airlines Inc.  <\/td><\/tr>\n",
       "<\/tbody>\n",
       "<\/table>\n"
      ]
     },
     "metadata":{
      
     },
     "output_type":"display_data"
    }
   ],
   "metadata":{
    "datalore":{
     "node_id":"koFODbESPPw9hWXXCvmdoL",
     "type":"CODE",
     "hide_input_from_viewers":false,
     "hide_output_from_viewers":false,
     "report_properties":{
      "y":100
     }
    }
   }
  },
  {
   "cell_type":"markdown",
   "source":[
    "## RPostgreSQL"
   ],
   "attachments":{
    
   },
   "metadata":{
    "datalore":{
     "node_id":"FoTNKDhMpqgtzosEIFSlV1",
     "type":"MD",
     "hide_input_from_viewers":true,
     "hide_output_from_viewers":true
    }
   }
  },
  {
   "cell_type":"code",
   "source":[
    "install.packages(\"RPostgreSQL\")\n",
    "library(RPostgreSQL)"
   ],
   "execution_count":null,
   "outputs":[
    {
     "ename":"ERROR",
     "evalue":"ERROR: ERROR: Error in library(RPostgreSQL): there is no package called ‘RPostgreSQL’\n",
     "traceback":[
      "\u001b[0;31m---------------------------------------------------------------------------",
      "Traceback (most recent call last)",
      "ERROR: ERROR: Error in library(RPostgreSQL): there is no package called ‘RPostgreSQL’\n"
     ],
     "output_type":"error"
    }
   ],
   "metadata":{
    "datalore":{
     "node_id":"4XtVEDUPnJ7avk6b2OpKOx",
     "type":"CODE",
     "hide_input_from_viewers":true,
     "hide_output_from_viewers":true
    }
   }
  },
  {
   "cell_type":"code",
   "source":[
    "## create connection\n",
    "\n",
    "con <- dbConnect(\n",
    "  PostgreSQL(),\n",
    "  host = \"arjuna.db.elephantsql.com\",\n",
    "  dbname = \"pthzxvim\",\n",
    "  port = 5432, #default for PostgreSQL\n",
    "  user = \"pthzxvim\",\n",
    "  password = \"tpodM_UsfSof8mFfGkHFtzzHgbqd5BhH\"\n",
    ")"
   ],
   "execution_count":null,
   "outputs":[
    {
     "ename":"ERROR",
     "evalue":"ERROR: ERROR: Error in dbConnect(PostgreSQL(), host = \"arjuna.db.elephantsql.com\", dbname = \"pthzxvim\", : could not find function \"dbConnect\"\n",
     "traceback":[
      "\u001b[0;31m---------------------------------------------------------------------------",
      "Traceback (most recent call last)",
      "ERROR: ERROR: Error in dbConnect(PostgreSQL(), host = \"arjuna.db.elephantsql.com\", dbname = \"pthzxvim\", : could not find function \"dbConnect\"\n"
     ],
     "output_type":"error"
    }
   ],
   "metadata":{
    "datalore":{
     "node_id":"VgnreHo3m2O0xXkqbKIXH1",
     "type":"CODE",
     "hide_input_from_viewers":true,
     "hide_output_from_viewers":true
    }
   }
  },
  {
   "cell_type":"code",
   "source":[
    "# create dataframe 01\n",
    "\n",
    "books_list <- data.frame(\n",
    "  id = 1:5,\n",
    "  book_name = c(\"The Lost Skill\", \"The Midnight Library\", \"Please to meet me\", \"Emotional Agility\", \"Shine\"),\n",
    "  score = c(4, 4, 3, 3, 3)\n",
    ")\n",
    "\n",
    "dbWriteTable(con, \"books_list\", books_list)"
   ],
   "execution_count":null,
   "outputs":[
    
   ],
   "metadata":{
    "datalore":{
     "node_id":"FB6kb4oxsqdFLjSTAzmT7n",
     "type":"CODE",
     "hide_input_from_viewers":false,
     "hide_output_from_viewers":false,
     "report_properties":{
      "y":113
     }
    }
   }
  },
  {
   "cell_type":"code",
   "source":[
    "# create dataframe 02\n",
    "\n",
    "music_list <- data.frame(\n",
    "  id = 1:5,\n",
    "  song_name = c(\"Until I Found You\", \"Both Side Now\", \"Smells Like Me\", \"Beautiful Love\"),\n",
    "  artist = c(\"Stephen Sanchez\", \"Emily Jones\", \"Charlie Puth\", \"Justin Bieber\")\n",
    ")\n",
    "\n",
    "dbWriteTable(con, \"music_list\", music_list)"
   ],
   "execution_count":null,
   "outputs":[
    
   ],
   "metadata":{
    "datalore":{
     "node_id":"upiTEbRdoTmkInl5s3IwqV",
     "type":"CODE",
     "hide_input_from_viewers":false,
     "hide_output_from_viewers":false,
     "report_properties":{
      "y":116
     }
    }
   }
  },
  {
   "cell_type":"code",
   "source":[
    "# create dataframe 03\n",
    "\n",
    "fav_place <- data.frame(\n",
    "    id = 1:5\n",
    "    country = c(\"Japan\", \"Korea\", \"Singapore\", \"Australia\", \"England\" ),\n",
    "    region = c(\"Asia\", \"Asia\", \"Asia\", \"Australia\", \"Europe\")\n",
    ")\n",
    "\n",
    "dbWriteTable(con, \"fav_place\", fav_place)"
   ],
   "execution_count":null,
   "outputs":[
    
   ],
   "metadata":{
    "datalore":{
     "node_id":"elNkBE96YT7uljBRf2skfA",
     "type":"CODE",
     "hide_input_from_viewers":false,
     "hide_output_from_viewers":false,
     "report_properties":{
      "y":119
     }
    }
   }
  },
  {
   "cell_type":"code",
   "source":[
    "## get data from database\n",
    "\n",
    "dbGetQuery(con, \"SELECT * FROM books_list\")\n",
    "dbGetQuery(con, \"SELECT * FROM music_list\")\n",
    "dbGetQuery(con, \"SELECT * FROM fav_place\")"
   ],
   "execution_count":null,
   "outputs":[
    
   ],
   "metadata":{
    "datalore":{
     "node_id":"g0qQBkFpoZ89DY4nRjwd36",
     "type":"CODE",
     "hide_input_from_viewers":false,
     "hide_output_from_viewers":false,
     "report_properties":{
      "y":122
     }
    }
   }
  },
  {
   "cell_type":"code",
   "source":[
    "## close connection\n",
    "\n",
    "dbDisconnect(con)"
   ],
   "execution_count":null,
   "outputs":[
    
   ],
   "metadata":{
    "datalore":{
     "node_id":"Sm8hdVUFeHA1z0kYyQTyp5",
     "type":"CODE",
     "hide_input_from_viewers":false,
     "hide_output_from_viewers":false,
     "report_properties":{
      "y":125
     }
    }
   }
  }
 ],
 "metadata":{
  "kernelspec":{
   "display_name":"R",
   "language":"r",
   "name":"ir"
  },
  "datalore":{
   "version":1,
   "computation_mode":"JUPYTER",
   "package_manager":"conda",
   "base_environment":"minimal",
   "packages":[
    
   ]
  }
 },
 "nbformat":4,
 "nbformat_minor":4
}